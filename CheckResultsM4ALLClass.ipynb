{
 "cells": [
  {
   "cell_type": "code",
   "execution_count": 24,
   "metadata": {},
   "outputs": [],
   "source": [
    "import numpy as np\n",
    "import pandas as pd\n",
    "import os\n",
    "import matplotlib.pyplot as plt\n",
    "\n",
    "PREFIX='a video of '"
   ]
  },
  {
   "cell_type": "code",
   "execution_count": 25,
   "metadata": {},
   "outputs": [],
   "source": [
    "events = [\n",
    "        \"Riding\",\n",
    "        \"Fighting\",\n",
    "        \"Playing\",\n",
    "        \"Running\",\n",
    "        'Lying',\n",
    "        \"Chasing\",\n",
    "        \"Jumping\",\n",
    "        \"Falling\",\n",
    "        \"Guiding\",\n",
    "        \"Stealing\",\n",
    "        \"Littering\",\n",
    "        \"Tripping\",\n",
    "        \"Pickpockering\",\n",
    "    ]\n",
    "description = [\n",
    "        \"a person riding a bicycle\",\n",
    "        \"a certain number of persons fighting\",\n",
    "        \"a group of persons playing\",\n",
    "        \"a person running\",\n",
    "        \"a person lying in the floor\",\n",
    "        \"a person chasing other person\",\n",
    "        \"a person jumping\",\n",
    "        \"a person falling\",\n",
    "        \"a person guiding other person\",\n",
    "        \"a person stealing other person\",\n",
    "        \"a person throwing trash in the floor\",\n",
    "        \"a person tripping\",\n",
    "        \"a person stealing other person's pocket\",\n",
    "    ]"
   ]
  },
  {
   "cell_type": "code",
   "execution_count": 26,
   "metadata": {},
   "outputs": [],
   "source": [
    "description=[PREFIX+desc for desc in description]\n",
    "events_description = {event: desc for event, desc in zip(events, description)}"
   ]
  },
  {
   "cell_type": "code",
   "execution_count": 27,
   "metadata": {},
   "outputs": [
    {
     "name": "stdout",
     "output_type": "stream",
     "text": [
      "        Name                                 Event Mode TP FP FN TN\n",
      "0     000350  a video of a person riding a bicycle    3  0  0  0  0\n",
      "1     000289  a video of a person riding a bicycle    3  0  0  0  0\n",
      "2    4_076_1  a video of a person riding a bicycle    3  0  0  0  0\n",
      "3     000326  a video of a person riding a bicycle    3  0  0  0  0\n",
      "4     000313  a video of a person riding a bicycle    3  0  0  0  0\n",
      "..       ...                                   ...  ... .. .. .. ..\n",
      "115   000304           a video of a person running    3  0  0  0  0\n",
      "116   000288           a video of a person running    3  0  0  0  0\n",
      "117  4_104_1           a video of a person running    3  0  0  0  0\n",
      "118   000228           a video of a person running    3  0  0  0  0\n",
      "119  D158_02           a video of a person running    3  0  0  0  0\n",
      "\n",
      "[120 rows x 7 columns]\n"
     ]
    }
   ],
   "source": [
    "rute=\"/home/ubuntu/Database/ALL/Videos\"\n",
    "rute_stored='/home/ubuntu/Tesis/Storage/M4Multiclass/'\n",
    "\n",
    "modes=[3]\n",
    "usage='CLIP'\n",
    "df= pd.DataFrame(columns=['Name', 'Event', 'Mode', 'TP', 'FP', 'FN', 'TN'])\n",
    "for mode in modes:\n",
    "    for folder_number in range(len(events)):\n",
    "        folder=f\"{rute}/{events[folder_number]}/\"\n",
    "        files= os.listdir(folder)\n",
    "        for file in files:\n",
    "            stored_file=file.split('.')[0]\n",
    "            desc=events_description[events[folder_number]]\n",
    "            try:\n",
    "                info_stored=np.load(f\"{rute_stored}{stored_file}_{usage}_{mode}_{desc}.npy\", allow_pickle=True)\n",
    "                frames_number=info_stored[0]\n",
    "                predicted_events=info_stored[1]\n",
    "                prompts=info_stored[2]\n",
    "                event= events_description[events[folder_number]]\n",
    "                #tp, fp,fn, tn=check_precision(frames_number, stored_file, predicted_events, event, description, prompts, mode)\n",
    "                row = {\n",
    "                'Name':stored_file, 'Event':event, 'Mode':mode, 'TP':0, 'FP':0, 'FN':0, 'TN':0\n",
    "                }\n",
    "                df =pd.concat([df, pd.DataFrame([row])], ignore_index=True)\n",
    "            except:\n",
    "                pass\n",
    "print(df)\n",
    "df.to_csv(f\"{rute_stored}/DFS/ResultsM4.csv\", index=False)"
   ]
  },
  {
   "cell_type": "code",
   "execution_count": 28,
   "metadata": {},
   "outputs": [
    {
     "name": "stdout",
     "output_type": "stream",
     "text": [
      "9.466602014965481 hours\n",
      "\n",
      "\n",
      "            Name  Mode  True Positive  False Positive  False Negative  \\\n",
      "0     000350.avi     3              0               0               0   \n",
      "1     000289.avi     3              0               0               0   \n",
      "2    4_076_1.mp4     3              0               0               0   \n",
      "3     000326.avi     3              0               0               0   \n",
      "4     000313.avi     3              0               0               0   \n",
      "..           ...   ...            ...             ...             ...   \n",
      "115   000304.avi     3              0               0               0   \n",
      "116   000288.avi     3              0               0               0   \n",
      "117  4_104_1.mp4     3              0               0               0   \n",
      "118   000228.avi     3              0               0               0   \n",
      "119  D158_02.avi     3              0               0               0   \n",
      "\n",
      "     True Negative                            True Event  Check event  \\\n",
      "0                0  a video of a person riding a bicycle          NaN   \n",
      "1                0  a video of a person riding a bicycle          NaN   \n",
      "2                0  a video of a person riding a bicycle          NaN   \n",
      "3                0  a video of a person riding a bicycle          NaN   \n",
      "4                0  a video of a person riding a bicycle          NaN   \n",
      "..             ...                                   ...          ...   \n",
      "115              0           a video of a person running          NaN   \n",
      "116              0           a video of a person running          NaN   \n",
      "117              0           a video of a person running          NaN   \n",
      "118              0           a video of a person running          NaN   \n",
      "119              0           a video of a person running          NaN   \n",
      "\n",
      "     Validations Number   Duration  Process time  \n",
      "0                   139  29.160000      3.229736  \n",
      "1                   241  49.960000      3.022304  \n",
      "2                    77  13.966667      3.834370  \n",
      "3                   157  32.680000      3.121689  \n",
      "4                   206  42.440000      2.873806  \n",
      "..                  ...        ...           ...  \n",
      "115                 129  27.120000      3.210929  \n",
      "116                 205  42.680000      3.331728  \n",
      "117                  29   5.966667      3.833810  \n",
      "118                  79  17.000000      3.620339  \n",
      "119                  84  18.840000      4.766478  \n",
      "\n",
      "[120 rows x 11 columns]\n"
     ]
    }
   ],
   "source": [
    "df_fps= pd.read_csv(\"/home/ubuntu/Tesis/Results/TestingDevM4MC.csv\")\n",
    "print(df_fps[\"Process time\"].sum()/(60*60), \"hours\\n\\n\")\n",
    "df_fps[\"Process time\"] = df_fps[\"Process time\"] / df_fps[\"Duration\"]\n",
    "df_fps.loc[df_fps[\"Name\"].str.contains(\"_1.mp4\"), \"Process time\"] = (\n",
    "        30.0 / df_fps[\"Process time\"]\n",
    "    )\n",
    "df_fps.loc[~df_fps[\"Name\"].str.contains(\"_1.mp4\"), \"Process time\"] = (\n",
    "        25.0 / df_fps[\"Process time\"]\n",
    "    )\n",
    "print(df_fps)"
   ]
  },
  {
   "cell_type": "code",
   "execution_count": 29,
   "metadata": {},
   "outputs": [
    {
     "name": "stdout",
     "output_type": "stream",
     "text": [
      "['a video of a person riding a bicycle'\n",
      " 'a video of a certain number of persons fighting'\n",
      " 'a video of a group of persons playing' 'a video of a person running']\n",
      "\n",
      "\n",
      "       Process time\n",
      "Mode              \n",
      "3         4.775275\n"
     ]
    }
   ],
   "source": [
    "categories = df_fps[\"True Event\"].unique()\n",
    "category_dfs = {category: df_fps[df_fps[\"True Event\"] == category] for category in categories}\n",
    "print(categories)\n",
    "mAP_process = []\n",
    "for i in range(len(categories)):\n",
    "    df1 = category_dfs[categories[i]]\n",
    "    grouped = df1.groupby(\"Mode\")\n",
    "    mean_values = grouped[[\"Process time\"]].mean()\n",
    "    mean_values = mean_values[[\"Process time\"]]\n",
    "    mAP_process.append(mean_values)\n",
    "# Calculate the mean Average Precision (mAP) for each mode\n",
    "mAP_values = pd.concat(mAP_process).groupby(level=0).mean()\n",
    "print(\"\\n\\n\", mAP_values)"
   ]
  }
 ],
 "metadata": {
  "kernelspec": {
   "display_name": "llava",
   "language": "python",
   "name": "python3"
  },
  "language_info": {
   "codemirror_mode": {
    "name": "ipython",
    "version": 3
   },
   "file_extension": ".py",
   "mimetype": "text/x-python",
   "name": "python",
   "nbconvert_exporter": "python",
   "pygments_lexer": "ipython3",
   "version": "3.10.14"
  }
 },
 "nbformat": 4,
 "nbformat_minor": 2
}
