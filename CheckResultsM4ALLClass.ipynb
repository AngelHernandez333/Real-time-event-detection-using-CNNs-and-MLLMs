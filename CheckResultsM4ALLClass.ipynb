{
 "cells": [
  {
   "cell_type": "code",
   "execution_count": 15,
   "metadata": {},
   "outputs": [],
   "source": [
    "import numpy as np\n",
    "import pandas as pd\n",
    "import os\n",
    "import matplotlib.pyplot as plt\n",
    "\n",
    "PREFIX='a video of '"
   ]
  },
  {
   "cell_type": "code",
   "execution_count": 16,
   "metadata": {},
   "outputs": [],
   "source": [
    "events = [\n",
    "        \"Riding\",\n",
    "        \"Fighting\",\n",
    "        \"Playing\",\n",
    "        \"Running\",\n",
    "        'Lying',\n",
    "        \"Chasing\",\n",
    "        \"Jumping\",\n",
    "        \"Falling\",\n",
    "        \"Guiding\",\n",
    "        \"Stealing\",\n",
    "        \"Littering\",\n",
    "        \"Tripping\",\n",
    "        \"Pickpockering\",\n",
    "    ]\n",
    "description = [\n",
    "        \"a person riding a bicycle\",\n",
    "        \"a certain number of persons fighting\",\n",
    "        \"a group of persons playing\",\n",
    "        \"a person running\",\n",
    "        \"a person lying in the floor\",\n",
    "        \"a person chasing other person\",\n",
    "        \"a person jumping\",\n",
    "        \"a person falling\",\n",
    "        \"a person guiding other person\",\n",
    "        \"a person stealing other person\",\n",
    "        \"a person throwing trash in the floor\",\n",
    "        \"a person tripping\",\n",
    "        \"a person stealing other person's pocket\",\n",
    "    ]"
   ]
  },
  {
   "cell_type": "code",
   "execution_count": 17,
   "metadata": {},
   "outputs": [],
   "source": [
    "description=[PREFIX+desc for desc in description]\n",
    "events_description = {event: desc for event, desc in zip(events, description)}"
   ]
  },
  {
   "cell_type": "code",
   "execution_count": 18,
   "metadata": {},
   "outputs": [
    {
     "name": "stdout",
     "output_type": "stream",
     "text": [
      "        Name                                              Event Mode TP FP FN  \\\n",
      "0     000350               a video of a person riding a bicycle    3  0  0  0   \n",
      "1     000289               a video of a person riding a bicycle    3  0  0  0   \n",
      "2    4_076_1               a video of a person riding a bicycle    3  0  0  0   \n",
      "3     000326               a video of a person riding a bicycle    3  0  0  0   \n",
      "4     000313               a video of a person riding a bicycle    3  0  0  0   \n",
      "..       ...                                                ...  ... .. .. ..   \n",
      "247  1_075_1  a video of a person stealing other person's po...    3  0  0  0   \n",
      "248  4_086_1  a video of a person stealing other person's po...    3  0  0  0   \n",
      "249  D158_13  a video of a person stealing other person's po...    3  0  0  0   \n",
      "250  D149_07  a video of a person stealing other person's po...    3  0  0  0   \n",
      "251  D149_03  a video of a person stealing other person's po...    3  0  0  0   \n",
      "\n",
      "    TN  \n",
      "0    0  \n",
      "1    0  \n",
      "2    0  \n",
      "3    0  \n",
      "4    0  \n",
      "..  ..  \n",
      "247  0  \n",
      "248  0  \n",
      "249  0  \n",
      "250  0  \n",
      "251  0  \n",
      "\n",
      "[252 rows x 7 columns]\n"
     ]
    }
   ],
   "source": [
    "rute=\"/home/ubuntu/Database/ALL/Videos\"\n",
    "rute_stored='/home/ubuntu/Tesis/Storage/M4Multiclass/'\n",
    "\n",
    "modes=[3]\n",
    "usage='CLIP'\n",
    "df= pd.DataFrame(columns=['Name', 'Event', 'Mode', 'TP', 'FP', 'FN', 'TN'])\n",
    "for mode in modes:\n",
    "    for folder_number in range(len(events)):\n",
    "        folder=f\"{rute}/{events[folder_number]}/\"\n",
    "        files= os.listdir(folder)\n",
    "        for file in files:\n",
    "            stored_file=file.split('.')[0]\n",
    "            desc=events_description[events[folder_number]]\n",
    "            try:\n",
    "                info_stored=np.load(f\"{rute_stored}{stored_file}_{usage}_{mode}_{desc}.npy\", allow_pickle=True)\n",
    "                frames_number=info_stored[0]\n",
    "                predicted_events=info_stored[1]\n",
    "                prompts=info_stored[2]\n",
    "                event= events_description[events[folder_number]]\n",
    "                #tp, fp,fn, tn=check_precision(frames_number, stored_file, predicted_events, event, description, prompts, mode)\n",
    "                row = {\n",
    "                'Name':stored_file, 'Event':event, 'Mode':mode, 'TP':0, 'FP':0, 'FN':0, 'TN':0\n",
    "                }\n",
    "                df =pd.concat([df, pd.DataFrame([row])], ignore_index=True)\n",
    "            except:\n",
    "                pass\n",
    "print(df)\n",
    "df.to_csv(f\"{rute_stored}/DFS/ResultsM4.csv\", index=False)"
   ]
  },
  {
   "cell_type": "code",
   "execution_count": 19,
   "metadata": {},
   "outputs": [
    {
     "name": "stdout",
     "output_type": "stream",
     "text": [
      "14.333069005476103 hours\n",
      "\n",
      "\n",
      "            Name  Mode  True Positive  False Positive  False Negative  \\\n",
      "0    1_066_1.mp4     3              0               0               0   \n",
      "1     000253.avi     3              0               0               0   \n",
      "2    D235_01.avi     3              0               0               0   \n",
      "3    D013_02.avi     3              0               0               0   \n",
      "4     000324.avi     3              0               0               0   \n",
      "..           ...   ...            ...             ...             ...   \n",
      "247  3_095_1.mp4     3              0               0               0   \n",
      "248  3_084_1.mp4     3              0               0               0   \n",
      "249  1_086_1.mp4     3              0               0               0   \n",
      "250  D149_07.avi     3              0               0               0   \n",
      "251  D149_03.avi     3              0               0               0   \n",
      "\n",
      "     True Negative                                         True Event  \\\n",
      "0                0               a video of a person riding a bicycle   \n",
      "1                0               a video of a person riding a bicycle   \n",
      "2                0               a video of a person riding a bicycle   \n",
      "3                0               a video of a person riding a bicycle   \n",
      "4                0               a video of a person riding a bicycle   \n",
      "..             ...                                                ...   \n",
      "247              0    a video of a person throwing trash in the floor   \n",
      "248              0    a video of a person throwing trash in the floor   \n",
      "249              0    a video of a person throwing trash in the floor   \n",
      "250              0  a video of a person stealing other person's po...   \n",
      "251              0  a video of a person stealing other person's po...   \n",
      "\n",
      "     Check event  Validations Number    Duration  Process time  \n",
      "0            NaN                  44   14.981633      7.379433  \n",
      "1            NaN                 139   29.040000      4.210723  \n",
      "2            NaN                  51   64.040000     16.272714  \n",
      "3            NaN                  71  100.040000     17.074551  \n",
      "4            NaN                 165   34.240000      4.219174  \n",
      "..           ...                 ...         ...           ...  \n",
      "247          NaN                 143   24.991633      4.285006  \n",
      "248          NaN                 125   24.391033      4.698914  \n",
      "249          NaN                 143   24.991633      4.225792  \n",
      "250          NaN                 147   41.040000      5.687988  \n",
      "251          NaN                 295   69.040000      4.883401  \n",
      "\n",
      "[252 rows x 11 columns]\n"
     ]
    }
   ],
   "source": [
    "df_fps= pd.read_csv(\"/home/ubuntu/Tesis/Results/TestingDevM4MC.csv\")\n",
    "print(df_fps[\"Process time\"].sum()/(60*60), \"hours\\n\\n\")\n",
    "df_fps[\"Process time\"] = df_fps[\"Process time\"] / df_fps[\"Duration\"]\n",
    "df_fps.loc[df_fps[\"Name\"].str.contains(\"_1.mp4\"), \"Process time\"] = (\n",
    "        30.0 / df_fps[\"Process time\"]\n",
    "    )\n",
    "df_fps.loc[~df_fps[\"Name\"].str.contains(\"_1.mp4\"), \"Process time\"] = (\n",
    "        25.0 / df_fps[\"Process time\"]\n",
    "    )\n",
    "print(df_fps)"
   ]
  },
  {
   "cell_type": "code",
   "execution_count": 20,
   "metadata": {},
   "outputs": [
    {
     "name": "stdout",
     "output_type": "stream",
     "text": [
      "['a video of a person riding a bicycle'\n",
      " 'a video of a certain number of persons fighting'\n",
      " 'a video of a group of persons playing' 'a video of a person running'\n",
      " 'a video of a person lying in the floor'\n",
      " 'a video of a person chasing other person' 'a video of a person jumping'\n",
      " 'a video of a person falling' 'a video of a person guiding other person'\n",
      " 'a video of a person stealing other person'\n",
      " 'a video of a person throwing trash in the floor'\n",
      " 'a video of a person tripping'\n",
      " \"a video of a person stealing other person's pocket\"]\n",
      "\n",
      "\n",
      "       Process time\n",
      "Mode              \n",
      "3         5.263889\n"
     ]
    }
   ],
   "source": [
    "categories = df_fps[\"True Event\"].unique()\n",
    "category_dfs = {category: df_fps[df_fps[\"True Event\"] == category] for category in categories}\n",
    "print(categories)\n",
    "mAP_process = []\n",
    "for i in range(len(categories)):\n",
    "    df1 = category_dfs[categories[i]]\n",
    "    grouped = df1.groupby(\"Mode\")\n",
    "    mean_values = grouped[[\"Process time\"]].mean()\n",
    "    mean_values = mean_values[[\"Process time\"]]\n",
    "    mAP_process.append(mean_values)\n",
    "# Calculate the mean Average Precision (mAP) for each mode\n",
    "mAP_values = pd.concat(mAP_process).groupby(level=0).mean()\n",
    "print(\"\\n\\n\", mAP_values)"
   ]
  }
 ],
 "metadata": {
  "kernelspec": {
   "display_name": "llava",
   "language": "python",
   "name": "python3"
  },
  "language_info": {
   "codemirror_mode": {
    "name": "ipython",
    "version": 3
   },
   "file_extension": ".py",
   "mimetype": "text/x-python",
   "name": "python",
   "nbconvert_exporter": "python",
   "pygments_lexer": "ipython3",
   "version": "3.10.14"
  }
 },
 "nbformat": 4,
 "nbformat_minor": 2
}
