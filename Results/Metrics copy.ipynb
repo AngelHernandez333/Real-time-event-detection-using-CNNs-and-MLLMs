{
 "cells": [
  {
   "cell_type": "code",
   "execution_count": 33,
   "metadata": {},
   "outputs": [],
   "source": [
    "import numpy as np\n",
    "import pandas as pandas\n",
    "import matplotlib.pyplot as plt"
   ]
  },
  {
   "cell_type": "code",
   "execution_count": 34,
   "metadata": {},
   "outputs": [
    {
     "name": "stdout",
     "output_type": "stream",
     "text": [
      "             Name  Mode  True Positive  False Positive  False Negative  \\\n",
      "0     4_076_1.mp4     0             16               0               0   \n",
      "1     3_106_1.mp4     0             19               0               0   \n",
      "2     1_067_1.mp4     0             15               0               0   \n",
      "3     1_066_1.mp4     0             16               0               0   \n",
      "4     2_096_1.mp4     0             29               0               0   \n",
      "...           ...   ...            ...             ...             ...   \n",
      "1255  D148_04.avi     4              2             116              42   \n",
      "1256  D149_05.avi     4             12               1              18   \n",
      "1257  D158_13.avi     4              5               0              12   \n",
      "1258  D149_07.avi     4              3               3              21   \n",
      "1259  D149_03.avi     4              7               6              70   \n",
      "\n",
      "      True Negative                               True Event  \\\n",
      "0                 0                a person riding a bicycle   \n",
      "1                 0                a person riding a bicycle   \n",
      "2                 0                a person riding a bicycle   \n",
      "3                 0                a person riding a bicycle   \n",
      "4                 0                a person riding a bicycle   \n",
      "...             ...                                      ...   \n",
      "1255            200  a person stealing other person's pocket   \n",
      "1256             55  a person stealing other person's pocket   \n",
      "1257             29  a person stealing other person's pocket   \n",
      "1258             98  a person stealing other person's pocket   \n",
      "1259             78  a person stealing other person's pocket   \n",
      "\n",
      "                                  Check event  Validations Number   Duration  \\\n",
      "0                   a person riding a bicycle                  16  13.966667   \n",
      "1                   a person riding a bicycle                  19  14.981633   \n",
      "2                   a person riding a bicycle                  15   9.976633   \n",
      "3                   a person riding a bicycle                  16  14.981633   \n",
      "4                   a person riding a bicycle                  29  15.000000   \n",
      "...                                       ...                 ...        ...   \n",
      "1255  a person stealing other person's pocket                 360  77.040000   \n",
      "1256  a person stealing other person's pocket                  86  30.040000   \n",
      "1257  a person stealing other person's pocket                  46  40.840000   \n",
      "1258  a person stealing other person's pocket                 125  41.040000   \n",
      "1259  a person stealing other person's pocket                 161  69.040000   \n",
      "\n",
      "      Process time  \n",
      "0        32.859913  \n",
      "1        32.371662  \n",
      "2        23.463306  \n",
      "3        30.736398  \n",
      "4        40.505269  \n",
      "...            ...  \n",
      "1255     68.440943  \n",
      "1256     26.316139  \n",
      "1257     35.793653  \n",
      "1258     35.617664  \n",
      "1259     59.667247  \n",
      "\n",
      "[1260 rows x 11 columns]\n"
     ]
    }
   ],
   "source": [
    "rute='/home/ubuntu/Tesis/Results/Tesis/PerformanceNewPrompt'\n",
    "file='TestJanusAll5.csv' \n",
    "df=pandas.read_csv(rute+'/'+file, sep=',', header=0)\n",
    "print(df)"
   ]
  },
  {
   "cell_type": "code",
   "execution_count": 35,
   "metadata": {},
   "outputs": [
    {
     "name": "stdout",
     "output_type": "stream",
     "text": [
      "    Mode                               True Event  True Positive  \\\n",
      "0      0     a certain number of persons fighting           2996   \n",
      "1      0               a group of persons playing           1398   \n",
      "2      0            a person chasing other person            155   \n",
      "3      0                         a person falling             85   \n",
      "4      0            a person guiding other person            306   \n",
      "..   ...                                      ...            ...   \n",
      "60     4                         a person running           1122   \n",
      "61     4           a person stealing other person             27   \n",
      "62     4  a person stealing other person's pocket             64   \n",
      "63     4     a person throwing trash in the floor            281   \n",
      "64     4                        a person tripping             70   \n",
      "\n",
      "    True Negative  False Positive  False Negative  \n",
      "0               8            1535              12  \n",
      "1               0             168               0  \n",
      "2               0              34               0  \n",
      "3               0              88               0  \n",
      "4               0              19               0  \n",
      "..            ...             ...             ...  \n",
      "60           2782            1452            1119  \n",
      "61           1254               8             560  \n",
      "62            627             143             245  \n",
      "63            686             464             190  \n",
      "64            435              11             189  \n",
      "\n",
      "[65 rows x 6 columns]\n"
     ]
    }
   ],
   "source": [
    "df=df[['Mode', 'True Event','True Positive','True Negative', 'False Positive',\"False Negative\"]]\n",
    "df=df.groupby(['Mode', 'True Event']).sum()\n",
    "df=df.reset_index()\n",
    "print(df)"
   ]
  },
  {
   "cell_type": "code",
   "execution_count": 36,
   "metadata": {},
   "outputs": [
    {
     "name": "stdout",
     "output_type": "stream",
     "text": [
      "    Mode  Precision    Recall  Accuracy\n",
      "0      0   0.661223  0.996011  0.660075\n",
      "1      0   0.892720  1.000000  0.892720\n",
      "2      0   0.820106  1.000000  0.820106\n",
      "3      0   0.491329  1.000000  0.491329\n",
      "4      0   0.941538  1.000000  0.941538\n",
      "..   ...        ...       ...       ...\n",
      "60     4   0.435897  0.500669  0.602934\n",
      "61     4   0.771429  0.045997  0.692807\n",
      "62     4   0.309179  0.207120  0.640408\n",
      "63     4   0.377181  0.596603  0.596545\n",
      "64     4   0.864198  0.270270  0.716312\n",
      "\n",
      "[65 rows x 4 columns]\n"
     ]
    }
   ],
   "source": [
    "df[\"Precision\"] = df[\"True Positive\"] / (df[\"True Positive\"] + df[\"False Positive\"])\n",
    "df[\"Recall\"] = df[\"True Positive\"] / (df[\"True Positive\"] + df[\"False Negative\"])\n",
    "df[\"Accuracy\"] = (df[\"True Positive\"]+df[\"True Negative\"]) / (df[\"True Positive\"] + df[\"False Negative\"]+df[\"False Positive\"]+df[\"True Negative\"])\n",
    "df.fillna(0, inplace=True)\n",
    "df=df[['Mode', 'Precision', 'Recall', 'Accuracy']]\n",
    "print(df)"
   ]
  },
  {
   "cell_type": "code",
   "execution_count": 37,
   "metadata": {},
   "outputs": [
    {
     "name": "stdout",
     "output_type": "stream",
     "text": [
      "                                         Mode  Precision    Recall  Accuracy\n",
      "Detector con reglas, MLLM e información     0   0.660884  0.999204  0.661164\n",
      "MMLM Solo                                   1   0.538725  0.771577  0.612019\n",
      "Detector, MLLM e informacion                2   0.453356  0.973084  0.485356\n",
      "Detector con reglas y MLLM                  3   0.741165  0.801464  0.721844\n",
      "Detector con reglas                         4   0.663671  0.320521  0.606194\n"
     ]
    }
   ],
   "source": [
    "df=df.groupby('Mode').mean()\n",
    "df=df.reset_index()\n",
    "mode_names = {\n",
    "        0: \"Detector con reglas, MLLM e información\",\n",
    "        1: \"MMLM Solo\",\n",
    "        2: \"Detector, MLLM e informacion\",\n",
    "        3: \"Detector con reglas y MLLM\",\n",
    "        4: \"Detector con reglas \",\n",
    "    }\n",
    "df.rename(index=mode_names, inplace=True)\n",
    "print(df)"
   ]
  },
  {
   "cell_type": "code",
   "execution_count": 38,
   "metadata": {},
   "outputs": [
    {
     "name": "stdout",
     "output_type": "stream",
     "text": [
      "                                         Mode  Accuracy        F1\n",
      "Detector con reglas, MLLM e información     0  0.661164  0.795570\n",
      "MMLM Solo                                   1  0.612019  0.634461\n",
      "Detector, MLLM e informacion                2  0.485356  0.618537\n",
      "Detector con reglas y MLLM                  3  0.721844  0.770136\n",
      "Detector con reglas                         4  0.606194  0.432274\n"
     ]
    }
   ],
   "source": [
    "df['F1']= 2 * (df['Precision'] * df['Recall']) / (df['Precision'] + df['Recall'])\n",
    "df.fillna(0, inplace=True)\n",
    "df.drop(columns=['Precision', 'Recall'], inplace=True)\n",
    "print(df)"
   ]
  }
 ],
 "metadata": {
  "kernelspec": {
   "display_name": "llava",
   "language": "python",
   "name": "python3"
  },
  "language_info": {
   "codemirror_mode": {
    "name": "ipython",
    "version": 3
   },
   "file_extension": ".py",
   "mimetype": "text/x-python",
   "name": "python",
   "nbconvert_exporter": "python",
   "pygments_lexer": "ipython3",
   "version": "3.10.14"
  }
 },
 "nbformat": 4,
 "nbformat_minor": 2
}
