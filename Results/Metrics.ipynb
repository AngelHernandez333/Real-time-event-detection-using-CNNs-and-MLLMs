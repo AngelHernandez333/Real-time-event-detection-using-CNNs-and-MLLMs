{
 "cells": [
  {
   "cell_type": "code",
   "execution_count": 72,
   "metadata": {},
   "outputs": [],
   "source": [
    "import numpy as np\n",
    "import pandas as pandas\n",
    "import matplotlib.pyplot as plt"
   ]
  },
  {
   "cell_type": "code",
   "execution_count": 73,
   "metadata": {},
   "outputs": [
    {
     "name": "stdout",
     "output_type": "stream",
     "text": [
      "             Name  Mode  True Positive  False Positive  False Negative  \\\n",
      "0     4_076_1.mp4     0             16               0               0   \n",
      "1     3_106_1.mp4     0             19               0               0   \n",
      "2     1_067_1.mp4     0             15               0               0   \n",
      "3     1_066_1.mp4     0             16               0               0   \n",
      "4     2_096_1.mp4     0             29               0               0   \n",
      "...           ...   ...            ...             ...             ...   \n",
      "1255  D148_04.avi     4              2             116              42   \n",
      "1256  D149_05.avi     4             12               1              18   \n",
      "1257  D158_13.avi     4              5               0              12   \n",
      "1258  D149_07.avi     4              3               3              21   \n",
      "1259  D149_03.avi     4              7               6              70   \n",
      "\n",
      "      True Negative                               True Event  \\\n",
      "0                 0                a person riding a bicycle   \n",
      "1                 0                a person riding a bicycle   \n",
      "2                 0                a person riding a bicycle   \n",
      "3                 0                a person riding a bicycle   \n",
      "4                 0                a person riding a bicycle   \n",
      "...             ...                                      ...   \n",
      "1255            200  a person stealing other person's pocket   \n",
      "1256             55  a person stealing other person's pocket   \n",
      "1257             29  a person stealing other person's pocket   \n",
      "1258             98  a person stealing other person's pocket   \n",
      "1259             78  a person stealing other person's pocket   \n",
      "\n",
      "                                  Check event  Validations Number   Duration  \\\n",
      "0                   a person riding a bicycle                  16  13.966667   \n",
      "1                   a person riding a bicycle                  19  14.981633   \n",
      "2                   a person riding a bicycle                  15   9.976633   \n",
      "3                   a person riding a bicycle                  16  14.981633   \n",
      "4                   a person riding a bicycle                  29  15.000000   \n",
      "...                                       ...                 ...        ...   \n",
      "1255  a person stealing other person's pocket                 360  77.040000   \n",
      "1256  a person stealing other person's pocket                  86  30.040000   \n",
      "1257  a person stealing other person's pocket                  46  40.840000   \n",
      "1258  a person stealing other person's pocket                 125  41.040000   \n",
      "1259  a person stealing other person's pocket                 161  69.040000   \n",
      "\n",
      "      Process time  \n",
      "0        32.859913  \n",
      "1        32.371662  \n",
      "2        23.463306  \n",
      "3        30.736398  \n",
      "4        40.505269  \n",
      "...            ...  \n",
      "1255     68.440943  \n",
      "1256     26.316139  \n",
      "1257     35.793653  \n",
      "1258     35.617664  \n",
      "1259     59.667247  \n",
      "\n",
      "[1260 rows x 11 columns]\n"
     ]
    }
   ],
   "source": [
    "rute='/home/ubuntu/Tesis/Results/Tesis/PerformanceNewPrompt'\n",
    "file='TestJanusAll5.csv' \n",
    "df=pandas.read_csv(rute+'/'+file, sep=',', header=0)\n",
    "print(df)"
   ]
  },
  {
   "cell_type": "code",
   "execution_count": 74,
   "metadata": {},
   "outputs": [],
   "source": [
    "def metrics_from_df(df):\n",
    "    mode_names = {\n",
    "            0: \"Detector con reglas, MLLM e información\",\n",
    "            1: \"MMLM Solo\",\n",
    "            2: \"Detector, MLLM e informacion\",\n",
    "            3: \"Detector con reglas y MLLM\",\n",
    "            4: \"Detector con reglas \",\n",
    "        }\n",
    "    df.rename(columns={'True Event': 'Event', \"True Positive\": \"TP\", \"False Positive\": \"FP\", \"False Negative\": \"FN\", \"True Negative\": \"TN\"}, inplace=True)\n",
    "    df_sum = df.groupby([\"Event\", \"Mode\"])[ [\"TP\", \"FP\", \"FN\", \"TN\"]].sum().reset_index()\n",
    "\n",
    "    # Initialize precision, recall, accuracy with zeros\n",
    "    df_sum[\"Precision\"] = 0.0\n",
    "    df_sum[\"Recall\"] = 0.0\n",
    "    df_sum[\"Accuracy\"] = 0.0\n",
    "\n",
    "    # Calculate only where the denominator is not zero\n",
    "    mask_prec = (df_sum[\"TP\"] + df_sum[\"FP\"]) != 0\n",
    "    df_sum.loc[mask_prec, \"Precision\"] = (\n",
    "        df_sum.loc[mask_prec, \"TP\"] / (df_sum.loc[mask_prec, \"TP\"] + df_sum.loc[mask_prec, \"FP\"])\n",
    "    )\n",
    "\n",
    "    mask_recall = (df_sum[\"TP\"] + df_sum[\"FN\"]) != 0\n",
    "    df_sum.loc[mask_recall, \"Recall\"] = (\n",
    "        df_sum.loc[mask_recall, \"TP\"] / (df_sum.loc[mask_recall, \"TP\"] + df_sum.loc[mask_recall, \"FN\"])\n",
    "    )\n",
    "\n",
    "    mask_acc = (df_sum[\"TP\"] + df_sum[\"FP\"] + df_sum[\"FN\"] + df_sum[\"TN\"]) != 0\n",
    "    df_sum.loc[mask_acc, \"Accuracy\"] = (\n",
    "        (df_sum.loc[mask_acc, \"TP\"] + df_sum.loc[mask_acc, \"TN\"]) /\n",
    "        (df_sum.loc[mask_acc, \"TP\"] + df_sum.loc[mask_acc, \"FP\"] + df_sum.loc[mask_acc, \"FN\"] + df_sum.loc[mask_acc, \"TN\"])\n",
    "    )\n",
    "    df_sum.drop(columns=['TP', 'FP', 'FN', 'TN'], inplace=True)\n",
    "    df_sum.drop(columns=['Event'], inplace=True)\n",
    "    df_sum=df_sum.groupby([\"Mode\"]).mean()\n",
    "    df_sum.rename(index=mode_names, inplace=True)\n",
    "    df_sum['F1'] = 2 * df_sum['Precision'].astype(float) * df_sum['Recall'].astype(float) / (df_sum['Precision'].astype(float) + df_sum['Recall'].astype(float))\n",
    "    df_sum['F1'].fillna(0, inplace=True)  # Handle division by zero\n",
    "    return df_sum"
   ]
  },
  {
   "cell_type": "code",
   "execution_count": null,
   "metadata": {},
   "outputs": [],
   "source": []
  },
  {
   "cell_type": "code",
   "execution_count": 75,
   "metadata": {},
   "outputs": [
    {
     "name": "stdout",
     "output_type": "stream",
     "text": [
      "                                         Precision    Recall  Accuracy  \\\n",
      "Mode                                                                     \n",
      "Detector con reglas, MLLM e información   0.660884  0.999204  0.661164   \n",
      "MMLM Solo                                 0.538725  0.771577  0.612019   \n",
      "Detector, MLLM e informacion              0.453356  0.973084  0.485356   \n",
      "Detector con reglas y MLLM                0.741165  0.801464  0.721844   \n",
      "Detector con reglas                       0.663671  0.320521  0.606194   \n",
      "\n",
      "                                               F1  \n",
      "Mode                                               \n",
      "Detector con reglas, MLLM e información  0.795570  \n",
      "MMLM Solo                                0.634461  \n",
      "Detector, MLLM e informacion             0.618537  \n",
      "Detector con reglas y MLLM               0.770136  \n",
      "Detector con reglas                      0.432274  \n"
     ]
    },
    {
     "name": "stderr",
     "output_type": "stream",
     "text": [
      "/tmp/ipykernel_8334/835913274.py:38: FutureWarning: A value is trying to be set on a copy of a DataFrame or Series through chained assignment using an inplace method.\n",
      "The behavior will change in pandas 3.0. This inplace method will never work because the intermediate object on which we are setting values always behaves as a copy.\n",
      "\n",
      "For example, when doing 'df[col].method(value, inplace=True)', try using 'df.method({col: value}, inplace=True)' or df[col] = df[col].method(value) instead, to perform the operation inplace on the original object.\n",
      "\n",
      "\n",
      "  df_sum['F1'].fillna(0, inplace=True)  # Handle division by zero\n"
     ]
    }
   ],
   "source": [
    "metrics=metrics_from_df(df)\n",
    "print(metrics)"
   ]
  }
 ],
 "metadata": {
  "kernelspec": {
   "display_name": "llava",
   "language": "python",
   "name": "python3"
  },
  "language_info": {
   "codemirror_mode": {
    "name": "ipython",
    "version": 3
   },
   "file_extension": ".py",
   "mimetype": "text/x-python",
   "name": "python",
   "nbconvert_exporter": "python",
   "pygments_lexer": "ipython3",
   "version": "3.10.14"
  }
 },
 "nbformat": 4,
 "nbformat_minor": 2
}
