{
 "cells": [
  {
   "cell_type": "code",
   "execution_count": 17,
   "metadata": {},
   "outputs": [],
   "source": [
    "import numpy as np\n",
    "import pandas as pandas\n",
    "import matplotlib.pyplot as plt"
   ]
  },
  {
   "cell_type": "code",
   "execution_count": 18,
   "metadata": {},
   "outputs": [
    {
     "name": "stdout",
     "output_type": "stream",
     "text": [
      "            Name  Mode  True Positive  False Positive  False Negative  \\\n",
      "0    4_076_1.mp4     0              8               0              40   \n",
      "1    3_106_1.mp4     0             24               0               3   \n",
      "2    1_067_1.mp4     0             14               0               7   \n",
      "3    1_066_1.mp4     0             14               0              11   \n",
      "4    2_096_1.mp4     0             24               0              14   \n",
      "..           ...   ...            ...             ...             ...   \n",
      "499  D148_04.avi     1              0               0               8   \n",
      "500  D149_05.avi     1              0               0              17   \n",
      "501  D158_13.avi     1              0               0               1   \n",
      "502  D149_07.avi     1              0               0               2   \n",
      "503  D149_03.avi     1              0               0               3   \n",
      "\n",
      "     True Negative                                         True Event  \\\n",
      "0               29  a video of a person riding a bicycle on the st...   \n",
      "1                3  a video of a person riding a bicycle on the st...   \n",
      "2                0  a video of a person riding a bicycle on the st...   \n",
      "3               19  a video of a person riding a bicycle on the st...   \n",
      "4               21  a video of a person riding a bicycle on the st...   \n",
      "..             ...                                                ...   \n",
      "499             11  a video of a person pickpocketing a wallet fro...   \n",
      "500             14  a video of a person pickpocketing a wallet fro...   \n",
      "501              6  a video of a person pickpocketing a wallet fro...   \n",
      "502              9  a video of a person pickpocketing a wallet fro...   \n",
      "503             45  a video of a person pickpocketing a wallet fro...   \n",
      "\n",
      "     Check event  Validations Number   Duration  Process time  \n",
      "0            NaN                  77  13.966667     18.977811  \n",
      "1            NaN                  30  14.981633     16.384237  \n",
      "2            NaN                  21   9.976633     10.900658  \n",
      "3            NaN                  44  14.981633     17.512192  \n",
      "4            NaN                  59  15.000000     18.922074  \n",
      "..           ...                 ...        ...           ...  \n",
      "499          NaN                 379  77.040000    111.459636  \n",
      "500          NaN                 111  30.040000    115.466825  \n",
      "501          NaN                  64  40.840000     72.579170  \n",
      "502          NaN                 147  41.040000    149.844687  \n",
      "503          NaN                 295  69.040000    326.330479  \n",
      "\n",
      "[504 rows x 11 columns]\n"
     ]
    }
   ],
   "source": [
    "rute='/home/ubuntu/Tesis/Results/Tesis/Best_CLIP'\n",
    "file='TestCLIPAll5.csv' \n",
    "df=pandas.read_csv(rute+'/'+file, sep=',', header=0)\n",
    "print(df)"
   ]
  },
  {
   "cell_type": "code",
   "execution_count": 19,
   "metadata": {},
   "outputs": [
    {
     "name": "stdout",
     "output_type": "stream",
     "text": [
      "     Mode                                         True Event  Precision  \\\n",
      "0       0  a video of a person riding a bicycle on the st...        1.0   \n",
      "1       0  a video of a person riding a bicycle on the st...        1.0   \n",
      "2       0  a video of a person riding a bicycle on the st...        1.0   \n",
      "3       0  a video of a person riding a bicycle on the st...        1.0   \n",
      "4       0  a video of a person riding a bicycle on the st...        1.0   \n",
      "..    ...                                                ...        ...   \n",
      "499     1  a video of a person pickpocketing a wallet fro...        0.0   \n",
      "500     1  a video of a person pickpocketing a wallet fro...        0.0   \n",
      "501     1  a video of a person pickpocketing a wallet fro...        0.0   \n",
      "502     1  a video of a person pickpocketing a wallet fro...        0.0   \n",
      "503     1  a video of a person pickpocketing a wallet fro...        0.0   \n",
      "\n",
      "       Recall  Accuracy  \n",
      "0    0.166667  0.480519  \n",
      "1    0.888889  0.900000  \n",
      "2    0.666667  0.666667  \n",
      "3    0.560000  0.750000  \n",
      "4    0.631579  0.762712  \n",
      "..        ...       ...  \n",
      "499  0.000000  0.578947  \n",
      "500  0.000000  0.451613  \n",
      "501  0.000000  0.857143  \n",
      "502  0.000000  0.818182  \n",
      "503  0.000000  0.937500  \n",
      "\n",
      "[504 rows x 5 columns]\n"
     ]
    }
   ],
   "source": [
    "df[\"Precision\"] = df[\"True Positive\"] / (df[\"True Positive\"] + df[\"False Positive\"])\n",
    "df[\"Recall\"] = df[\"True Positive\"] / (df[\"True Positive\"] + df[\"False Negative\"])\n",
    "df[\"Accuracy\"] = (df[\"True Positive\"]+df[\"True Negative\"]) / (df[\"True Positive\"] + df[\"False Negative\"]+df[\"False Positive\"]+df[\"True Negative\"])\n",
    "df.fillna(0, inplace=True)\n",
    "df=df[['Mode', 'True Event','Precision','Recall', 'Accuracy']]\n",
    "print(df)"
   ]
  },
  {
   "cell_type": "code",
   "execution_count": 20,
   "metadata": {},
   "outputs": [
    {
     "name": "stdout",
     "output_type": "stream",
     "text": [
      "                                           True Event  Mode  Precision  \\\n",
      "0   a video of a group of people playing a sport t...     0   0.377446   \n",
      "1   a video of a group of people playing a sport t...     1   0.377446   \n",
      "2   a video of a person accidentally falling to th...     0   0.142857   \n",
      "3   a video of a person accidentally falling to th...     1   0.142857   \n",
      "4   a video of a person aggressively chasing anoth...     0   0.000000   \n",
      "5   a video of a person aggressively chasing anoth...     1   0.000000   \n",
      "6   a video of a person deliberately throwing garb...     0   0.293872   \n",
      "7   a video of a person deliberately throwing garb...     1   0.307934   \n",
      "8   a video of a person gently guiding another per...     0   0.166667   \n",
      "9   a video of a person gently guiding another per...     1   0.166667   \n",
      "10  a video of a person jumping high in the air wi...     0   0.000000   \n",
      "11  a video of a person jumping high in the air wi...     1   0.000000   \n",
      "12  a video of a person lying motionless on the gr...     0   0.444444   \n",
      "13  a video of a person lying motionless on the gr...     1   0.444444   \n",
      "14  a video of a person pickpocketing a wallet fro...     0   0.111111   \n",
      "15  a video of a person pickpocketing a wallet fro...     1   0.000000   \n",
      "16  a video of a person riding a bicycle on the st...     0   0.652174   \n",
      "17  a video of a person riding a bicycle on the st...     1   0.652174   \n",
      "18                        a video of a person running     0   0.249288   \n",
      "19                        a video of a person running     1   0.295505   \n",
      "20          a video of a person stealing other person     0   0.000000   \n",
      "21          a video of a person stealing other person     1   0.000000   \n",
      "22      a video of a person tripping over an obstacle     0   0.000000   \n",
      "23      a video of a person tripping over an obstacle     1   0.000000   \n",
      "24  a video of multiple people engaged in a physic...     0   0.268293   \n",
      "25  a video of multiple people engaged in a physic...     1   0.268293   \n",
      "\n",
      "      Recall  Accuracy  \n",
      "0   0.033703  0.204362  \n",
      "1   0.107604  0.157128  \n",
      "2   0.001082  0.494431  \n",
      "3   0.005952  0.117097  \n",
      "4   0.000000  0.505199  \n",
      "5   0.000000  0.285486  \n",
      "6   0.129413  0.674402  \n",
      "7   0.308987  0.408445  \n",
      "8   0.031884  0.375329  \n",
      "9   0.094017  0.367949  \n",
      "10  0.000000  0.453860  \n",
      "11  0.000000  0.309696  \n",
      "12  0.328717  0.558800  \n",
      "13  0.406555  0.478456  \n",
      "14  0.009259  0.720169  \n",
      "15  0.000000  0.555614  \n",
      "16  0.279197  0.526502  \n",
      "17  0.624879  0.713149  \n",
      "18  0.198158  0.540638  \n",
      "19  0.304733  0.383517  \n",
      "20  0.000000  0.634654  \n",
      "21  0.000000  0.342377  \n",
      "22  0.000000  0.526004  \n",
      "23  0.000000  0.300000  \n",
      "24  0.071231  0.470363  \n",
      "25  0.126872  0.390838  \n"
     ]
    }
   ],
   "source": [
    "df1=df\n",
    "df1=df1.groupby(['True Event', 'Mode']).mean().reset_index()\n",
    "print(df1)"
   ]
  },
  {
   "cell_type": "code",
   "execution_count": 21,
   "metadata": {},
   "outputs": [
    {
     "name": "stdout",
     "output_type": "stream",
     "text": [
      "    Mode  Precision    Recall  Accuracy\n",
      "0      0   0.377446  0.033703  0.204362\n",
      "1      1   0.377446  0.107604  0.157128\n",
      "2      0   0.142857  0.001082  0.494431\n",
      "3      1   0.142857  0.005952  0.117097\n",
      "4      0   0.000000  0.000000  0.505199\n",
      "5      1   0.000000  0.000000  0.285486\n",
      "6      0   0.293872  0.129413  0.674402\n",
      "7      1   0.307934  0.308987  0.408445\n",
      "8      0   0.166667  0.031884  0.375329\n",
      "9      1   0.166667  0.094017  0.367949\n",
      "10     0   0.000000  0.000000  0.453860\n",
      "11     1   0.000000  0.000000  0.309696\n",
      "12     0   0.444444  0.328717  0.558800\n",
      "13     1   0.444444  0.406555  0.478456\n",
      "14     0   0.111111  0.009259  0.720169\n",
      "15     1   0.000000  0.000000  0.555614\n",
      "16     0   0.652174  0.279197  0.526502\n",
      "17     1   0.652174  0.624879  0.713149\n",
      "18     0   0.249288  0.198158  0.540638\n",
      "19     1   0.295505  0.304733  0.383517\n",
      "20     0   0.000000  0.000000  0.634654\n",
      "21     1   0.000000  0.000000  0.342377\n",
      "22     0   0.000000  0.000000  0.526004\n",
      "23     1   0.000000  0.000000  0.300000\n",
      "24     0   0.268293  0.071231  0.470363\n",
      "25     1   0.268293  0.126872  0.390838\n",
      "                        Precision    Recall  Accuracy\n",
      "Mode                                                 \n",
      "CLIP y Reglas            0.208165  0.083280  0.514209\n",
      "CLIP y Reglas con MLLM   0.204255  0.152277  0.369981\n"
     ]
    }
   ],
   "source": [
    "\n",
    "df2=df1\n",
    "df2.drop(columns=['True Event'], inplace=True)\n",
    "print(df2)\n",
    "df2=df2.groupby(['Mode']).mean()\n",
    "mode_names = {\n",
    "        0: \"CLIP y Reglas\",\n",
    "        1: \"CLIP y Reglas con MLLM\",\n",
    "    }\n",
    "df2.rename(index=mode_names, inplace=True)\n",
    "print(df2)"
   ]
  },
  {
   "cell_type": "code",
   "execution_count": 22,
   "metadata": {},
   "outputs": [
    {
     "name": "stdout",
     "output_type": "stream",
     "text": [
      "                        Accuracy        F1\n",
      "Mode                                      \n",
      "CLIP y Reglas           0.514209  0.118966\n",
      "CLIP y Reglas con MLLM  0.369981  0.174477\n"
     ]
    }
   ],
   "source": [
    "df2['F1']= 2 * (df2['Precision'] * df2['Recall']) / (df2['Precision'] + df2['Recall'])\n",
    "df2.fillna(0, inplace=True)\n",
    "df2.drop(columns=['Precision', 'Recall'], inplace=True)\n",
    "print(df2)"
   ]
  }
 ],
 "metadata": {
  "kernelspec": {
   "display_name": "llava",
   "language": "python",
   "name": "python3"
  },
  "language_info": {
   "codemirror_mode": {
    "name": "ipython",
    "version": 3
   },
   "file_extension": ".py",
   "mimetype": "text/x-python",
   "name": "python",
   "nbconvert_exporter": "python",
   "pygments_lexer": "ipython3",
   "version": "3.10.14"
  }
 },
 "nbformat": 4,
 "nbformat_minor": 2
}
